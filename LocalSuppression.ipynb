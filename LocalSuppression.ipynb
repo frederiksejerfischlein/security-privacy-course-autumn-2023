{
 "cells": [
  {
   "cell_type": "code",
   "execution_count": 16,
   "id": "44cfaacc",
   "metadata": {},
   "outputs": [],
   "source": [
    "import pandas as pd\n",
    "\n",
    "\n",
    "# Load the dataset\n",
    "file_path = r'data\\anonymized_data.xlsx'\n",
    "df1 = pd.read_excel(file_path)\n",
    "df2 = pd.read_excel(r'data\\localSuppr1.xlsx')\n",
    "df3 = pd.read_excel(r'data\\localSuppr2.xlsx')"
   ]
  },
  {
   "cell_type": "code",
   "execution_count": 17,
   "id": "692b54c9",
   "metadata": {},
   "outputs": [
    {
     "data": {
      "text/plain": [
       "[       sex citizenship marital_status age_range  evote    party\n",
       " 16  Female      Danish        Married     18-30      0  Party A,\n",
       "         sex citizenship marital_status age_range  evote    party\n",
       " 31   Female      Danish    Not Married     18-30      1  Party A\n",
       " 106  Female      Danish    Not Married     18-30      1  Party A\n",
       " 174  Female      Danish    Not Married     18-30      1  Party A,\n",
       "         sex citizenship marital_status age_range  evote    party\n",
       " 8    Female      Danish    Not Married     31-50      0  Party A\n",
       " 17   Female      Danish    Not Married     31-50      0  Party A\n",
       " 42   Female      Danish    Not Married     31-50      0  Party A\n",
       " 77   Female      Danish    Not Married     31-50      0  Party A\n",
       " 129  Female      Danish    Not Married     31-50      0  Party A,\n",
       "        sex citizenship marital_status age_range  evote    party\n",
       " 46  Female  Not Danish        Married     18-30      0  Party A,\n",
       "         sex citizenship marital_status age_range  evote    party\n",
       " 151  Female  Not Danish        Married     31-50      0  Party B,\n",
       "         sex citizenship marital_status age_range  evote    party\n",
       " 179  Female  Not Danish        Married     31-50      1  Party A,\n",
       "         sex citizenship marital_status age_range  evote         party\n",
       " 130  Female  Not Danish    Not Married     18-30      0  Invalid vote,\n",
       "         sex citizenship marital_status age_range  evote    party\n",
       " 190  Female  Not Danish    Not Married     18-30      1  Party A,\n",
       "         sex citizenship marital_status age_range  evote    party\n",
       " 104  Female  Not Danish    Not Married     31-50      1  Party A,\n",
       "         sex citizenship marital_status age_range  evote    party\n",
       " 19   Female  Not Danish    Not Married       51+      0  Party B\n",
       " 146  Female  Not Danish    Not Married       51+      0  Party B,\n",
       "         sex citizenship marital_status age_range  evote    party\n",
       " 180  Female  Not Danish    Not Married       51+      1  Party A,\n",
       "       sex citizenship marital_status age_range  evote    party\n",
       " 99   Male      Danish        Married     18-30      1  Party A\n",
       " 173  Male      Danish        Married     18-30      1  Party A,\n",
       "       sex citizenship marital_status age_range  evote    party\n",
       " 59   Male      Danish        Married     31-50      0  Party A\n",
       " 88   Male      Danish        Married     31-50      0  Party A\n",
       " 154  Male      Danish        Married     31-50      0  Party A\n",
       " 169  Male      Danish        Married     31-50      0  Party A\n",
       " 171  Male      Danish        Married     31-50      0  Party A\n",
       " 187  Male      Danish        Married     31-50      0  Party A,\n",
       "       sex citizenship marital_status age_range  evote    party\n",
       " 39   Male      Danish    Not Married     18-30      0  Party A\n",
       " 90   Male      Danish    Not Married     18-30      0  Party A\n",
       " 184  Male      Danish    Not Married     18-30      0  Party A,\n",
       "       sex citizenship marital_status age_range  evote    party\n",
       " 102  Male      Danish    Not Married       51+      1  Party A\n",
       " 168  Male      Danish    Not Married       51+      1  Party A\n",
       " 170  Male      Danish    Not Married       51+      1  Party A,\n",
       "       sex citizenship marital_status age_range  evote    party\n",
       " 103  Male  Not Danish        Married     18-30      0  Party A,\n",
       "       sex citizenship marital_status age_range  evote    party\n",
       " 107  Male  Not Danish        Married     31-50      1  Party A,\n",
       "       sex citizenship marital_status age_range  evote    party\n",
       " 125  Male  Not Danish        Married       51+      0  Party B\n",
       " 192  Male  Not Danish        Married       51+      0  Party B,\n",
       "       sex citizenship marital_status age_range  evote    party\n",
       " 178  Male  Not Danish        Married       51+      1  Party B,\n",
       "     sex citizenship marital_status age_range  evote    party\n",
       " 0  Male  Not Danish    Not Married     31-50      0  Party A,\n",
       "     sex citizenship marital_status age_range  evote    party\n",
       " 2  Male  Not Danish    Not Married     31-50      1  Party A]"
      ]
     },
     "execution_count": 17,
     "metadata": {},
     "output_type": "execute_result"
    }
   ],
   "source": [
    "# Computing l-diversity to ensure that no voter's preference can be re-identified\n",
    "# Educationis is not in the public data register so it collumns cannot be used for re-identification\n",
    "# Therefore we group by the other collumns (sex, age, citizenship, evote and marital status) also excluding the sensitive collumn\n",
    "\n",
    "grouped1 = df1.groupby(['sex', 'citizenship', 'marital_status', 'age_range', 'evote'])\n",
    "\n",
    "NonConformingGroups1 = []\n",
    "\n",
    "for name, group in grouped1:\n",
    "    if group.party.nunique() < 2:\n",
    "        NonConformingGroups1.append(group[['sex', 'citizenship', 'marital_status', 'age_range', 'evote', 'party']])\n",
    "\n",
    "        \n",
    "# This yields the relevant collumns of records in groups that do not conform to 2-diversity\n",
    "NonConformingGroups1"
   ]
  },
  {
   "cell_type": "code",
   "execution_count": 18,
   "id": "8d3f0b0c",
   "metadata": {},
   "outputs": [
    {
     "data": {
      "text/plain": [
       "[        sex citizenship marital_status age_range  evote    party\n",
       " 31   Female      Danish    Not Married     18-30    1.0  Party A\n",
       " 106  Female      Danish    Not Married     18-30    1.0  Party A\n",
       " 174  Female      Danish    Not Married     18-30    1.0  Party A,\n",
       "         sex citizenship marital_status age_range  evote    party\n",
       " 8    Female      Danish    Not Married     31-50    0.0  Party A\n",
       " 17   Female      Danish    Not Married     31-50    0.0  Party A\n",
       " 42   Female      Danish    Not Married     31-50    0.0  Party A\n",
       " 77   Female      Danish    Not Married     31-50    0.0  Party A\n",
       " 129  Female      Danish    Not Married     31-50    0.0  Party A,\n",
       "       sex citizenship marital_status age_range  evote    party\n",
       " 59   Male      Danish        Married     31-50    0.0  Party A\n",
       " 88   Male      Danish        Married     31-50    0.0  Party A\n",
       " 154  Male      Danish        Married     31-50    0.0  Party A\n",
       " 169  Male      Danish        Married     31-50    0.0  Party A\n",
       " 171  Male      Danish        Married     31-50    0.0  Party A\n",
       " 187  Male      Danish        Married     31-50    0.0  Party A,\n",
       "       sex citizenship marital_status age_range  evote    party\n",
       " 39   Male      Danish    Not Married     18-30    0.0  Party A\n",
       " 90   Male      Danish    Not Married     18-30    0.0  Party A\n",
       " 184  Male      Danish    Not Married     18-30    0.0  Party A,\n",
       "       sex citizenship marital_status age_range  evote    party\n",
       " 35   Male      Danish    Not Married     18-30    1.0  Party A\n",
       " 52   Male      Danish    Not Married     18-30    1.0  Party A\n",
       " 53   Male      Danish    Not Married     18-30    1.0  Party A\n",
       " 118  Male      Danish    Not Married     18-30    1.0  Party A\n",
       " 126  Male      Danish    Not Married     18-30    1.0      NaN\n",
       " 134  Male      Danish    Not Married     18-30    1.0  Party A\n",
       " 143  Male      Danish    Not Married     18-30    1.0  Party A\n",
       " 150  Male      Danish    Not Married     18-30    1.0      NaN\n",
       " 155  Male      Danish    Not Married     18-30    1.0  Party A\n",
       " 162  Male      Danish    Not Married     18-30    1.0  Party A\n",
       " 164  Male      Danish    Not Married     18-30    1.0  Party A,\n",
       "       sex citizenship marital_status age_range  evote    party\n",
       " 102  Male      Danish    Not Married       51+    1.0  Party A\n",
       " 168  Male      Danish    Not Married       51+    1.0  Party A\n",
       " 170  Male      Danish    Not Married       51+    1.0  Party A]"
      ]
     },
     "execution_count": 18,
     "metadata": {},
     "output_type": "execute_result"
    }
   ],
   "source": [
    "# Computing l-diversity to ensure that no voter's preference can be re-identified\n",
    "# E-vote and education are not in the public data register so these collumns cannot be used for re-identification\n",
    "# Therefore we group by the other collumns (sex, age, citizenship and marital status) also excluding the sensitive collumn\n",
    "\n",
    "grouped2 = df2.groupby(['sex', 'citizenship', 'marital_status', 'age_range', 'evote'])\n",
    "\n",
    "NonConformingGroups2 = []\n",
    "\n",
    "for name, group in grouped2:\n",
    "    if group.party.nunique() < 2:\n",
    "        NonConformingGroups2.append(group[['sex', 'citizenship', 'marital_status', 'age_range', 'evote', 'party']])\n",
    "\n",
    "        \n",
    "# This yields the relevant collumns of records in groups that do not conform to 2-diversity\n",
    "NonConformingGroups2"
   ]
  },
  {
   "cell_type": "code",
   "execution_count": 19,
   "id": "34bae04b",
   "metadata": {},
   "outputs": [],
   "source": [
    "#as we can see from the above result only two groups violate the l-diversity, but one of those groups \n",
    "#includes null values in the party collumn, hence it is not a problem\n",
    "# and for the other one there is record 104 which is Male   Not Danish  Married  Nan  Party A  which means any record that \n",
    "# could be traced identified to those records (125, 178, 192) could potentially also be the other record (104)\n"
   ]
  },
  {
   "cell_type": "code",
   "execution_count": 20,
   "id": "0ab7cb99",
   "metadata": {},
   "outputs": [
    {
     "data": {
      "text/plain": [
       "[        sex citizenship marital_status age_range  evote    party\n",
       " 8    Female      Danish    Not Married     31-50    0.0  Party A\n",
       " 42   Female      Danish    Not Married     31-50    0.0  Party A\n",
       " 77   Female      Danish    Not Married     31-50    0.0  Party A\n",
       " 129  Female      Danish    Not Married     31-50    0.0  Party A,\n",
       "       sex citizenship marital_status age_range  evote    party\n",
       " 59   Male      Danish        Married     31-50    0.0  Party A\n",
       " 88   Male      Danish        Married     31-50    0.0  Party A\n",
       " 154  Male      Danish        Married     31-50    0.0  Party A\n",
       " 171  Male      Danish        Married     31-50    0.0  Party A\n",
       " 187  Male      Danish        Married     31-50    0.0  Party A,\n",
       "       sex citizenship marital_status age_range  evote    party\n",
       " 35   Male      Danish    Not Married     18-30    1.0  Party A\n",
       " 52   Male      Danish    Not Married     18-30    1.0  Party A\n",
       " 53   Male      Danish    Not Married     18-30    1.0  Party A\n",
       " 118  Male      Danish    Not Married     18-30    1.0  Party A\n",
       " 126  Male      Danish    Not Married     18-30    1.0      NaN\n",
       " 134  Male      Danish    Not Married     18-30    1.0  Party A\n",
       " 143  Male      Danish    Not Married     18-30    1.0  Party A\n",
       " 150  Male      Danish    Not Married     18-30    1.0      NaN\n",
       " 155  Male      Danish    Not Married     18-30    1.0  Party A\n",
       " 162  Male      Danish    Not Married     18-30    1.0  Party A\n",
       " 164  Male      Danish    Not Married     18-30    1.0  Party A]"
      ]
     },
     "execution_count": 20,
     "metadata": {},
     "output_type": "execute_result"
    }
   ],
   "source": [
    "# Computing l-diversity to ensure that no voter's preference can be re-identified\n",
    "# E-vote and education are not in the public data register so these collumns cannot be used for re-identification\n",
    "# Therefore we group by the other collumns (sex, age, citizenship and marital status) also excluding the sensitive collumn\n",
    "\n",
    "grouped3 = df3.groupby(['sex', 'citizenship', 'marital_status', 'age_range', 'evote'])\n",
    "\n",
    "NonConformingGroups3 = []\n",
    "\n",
    "for name, group in grouped3:\n",
    "    if group.party.nunique() < 2:\n",
    "        NonConformingGroups3.append(group[['sex', 'citizenship', 'marital_status', 'age_range', 'evote', 'party']])\n",
    "\n",
    "        \n",
    "# This yields the relevant collumns of records in groups that do not conform to 2-diversity\n",
    "NonConformingGroups3"
   ]
  },
  {
   "cell_type": "code",
   "execution_count": 21,
   "id": "8c68caf9",
   "metadata": {},
   "outputs": [],
   "source": [
    "# In this one the case is even stronger as the only group not conforming includes null values for the party vote."
   ]
  },
  {
   "cell_type": "code",
   "execution_count": null,
   "id": "e1f62317",
   "metadata": {},
   "outputs": [],
   "source": []
  }
 ],
 "metadata": {
  "kernelspec": {
   "display_name": "Python 3",
   "language": "python",
   "name": "python3"
  },
  "language_info": {
   "codemirror_mode": {
    "name": "ipython",
    "version": 3
   },
   "file_extension": ".py",
   "mimetype": "text/x-python",
   "name": "python",
   "nbconvert_exporter": "python",
   "pygments_lexer": "ipython3",
   "version": "3.8.8"
  }
 },
 "nbformat": 4,
 "nbformat_minor": 5
}
