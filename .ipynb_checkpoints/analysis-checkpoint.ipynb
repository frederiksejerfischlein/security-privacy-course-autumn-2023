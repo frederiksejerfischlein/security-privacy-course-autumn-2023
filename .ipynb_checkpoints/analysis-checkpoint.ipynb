{
 "cells": [
  {
   "cell_type": "code",
   "execution_count": 7,
   "id": "c3eb06bf",
   "metadata": {},
   "outputs": [],
   "source": [
    "import pandas as pd\n",
    "from scipy.stats import chi2_contingency, f_oneway, kruskal"
   ]
  },
  {
   "cell_type": "code",
   "execution_count": 8,
   "id": "a54c4b45",
   "metadata": {},
   "outputs": [],
   "source": [
    "# Load the data\n",
    "anonymized_survey_data = pd.read_excel('data\\\\localSuppr2.xlsx')\n",
    "election_results = pd.read_excel(\"data\\\\public_data_resultsT.xlsx\")"
   ]
  },
  {
   "cell_type": "code",
   "execution_count": 9,
   "id": "5571ca0e",
   "metadata": {},
   "outputs": [],
   "source": [
    "# Create a DataFrame from the result data\n",
    "result_df = pd.DataFrame(election_results)"
   ]
  },
  {
   "cell_type": "code",
   "execution_count": 10,
   "id": "a278f91f",
   "metadata": {},
   "outputs": [
    {
     "ename": "KeyError",
     "evalue": "\"['Invalid vote'] not found in axis\"",
     "output_type": "error",
     "traceback": [
      "\u001b[1;31m---------------------------------------------------------------------------\u001b[0m",
      "\u001b[1;31mKeyError\u001b[0m                                  Traceback (most recent call last)",
      "\u001b[1;32m<ipython-input-10-d5b618d4868e>\u001b[0m in \u001b[0;36m<module>\u001b[1;34m\u001b[0m\n\u001b[0;32m      1\u001b[0m \u001b[1;31m# Analysis A:\u001b[0m\u001b[1;33m\u001b[0m\u001b[1;33m\u001b[0m\u001b[1;33m\u001b[0m\u001b[0m\n\u001b[0;32m      2\u001b[0m \u001b[0mparty_counts\u001b[0m \u001b[1;33m=\u001b[0m \u001b[0manonymized_survey_data\u001b[0m\u001b[1;33m[\u001b[0m\u001b[1;34m'party'\u001b[0m\u001b[1;33m]\u001b[0m\u001b[1;33m.\u001b[0m\u001b[0mvalue_counts\u001b[0m\u001b[1;33m(\u001b[0m\u001b[1;33m)\u001b[0m\u001b[1;33m\u001b[0m\u001b[1;33m\u001b[0m\u001b[0m\n\u001b[1;32m----> 3\u001b[1;33m \u001b[0mparty_counts\u001b[0m\u001b[1;33m.\u001b[0m\u001b[0mdrop\u001b[0m\u001b[1;33m(\u001b[0m\u001b[1;34m'Invalid vote'\u001b[0m\u001b[1;33m,\u001b[0m \u001b[0minplace\u001b[0m\u001b[1;33m=\u001b[0m\u001b[1;32mTrue\u001b[0m\u001b[1;33m)\u001b[0m\u001b[1;33m\u001b[0m\u001b[1;33m\u001b[0m\u001b[0m\n\u001b[0m\u001b[0;32m      4\u001b[0m \u001b[1;33m\u001b[0m\u001b[0m\n\u001b[0;32m      5\u001b[0m \u001b[1;31m# Calculate the percentage of Red and Green preferences in the survey data\u001b[0m\u001b[1;33m\u001b[0m\u001b[1;33m\u001b[0m\u001b[1;33m\u001b[0m\u001b[0m\n",
      "\u001b[1;32m~\\anaconda3\\lib\\site-packages\\pandas\\core\\series.py\u001b[0m in \u001b[0;36mdrop\u001b[1;34m(self, labels, axis, index, columns, level, inplace, errors)\u001b[0m\n\u001b[0;32m   4441\u001b[0m         \u001b[0mdtype\u001b[0m\u001b[1;33m:\u001b[0m \u001b[0mfloat64\u001b[0m\u001b[1;33m\u001b[0m\u001b[1;33m\u001b[0m\u001b[0m\n\u001b[0;32m   4442\u001b[0m         \"\"\"\n\u001b[1;32m-> 4443\u001b[1;33m         return super().drop(\n\u001b[0m\u001b[0;32m   4444\u001b[0m             \u001b[0mlabels\u001b[0m\u001b[1;33m=\u001b[0m\u001b[0mlabels\u001b[0m\u001b[1;33m,\u001b[0m\u001b[1;33m\u001b[0m\u001b[1;33m\u001b[0m\u001b[0m\n\u001b[0;32m   4445\u001b[0m             \u001b[0maxis\u001b[0m\u001b[1;33m=\u001b[0m\u001b[0maxis\u001b[0m\u001b[1;33m,\u001b[0m\u001b[1;33m\u001b[0m\u001b[1;33m\u001b[0m\u001b[0m\n",
      "\u001b[1;32m~\\anaconda3\\lib\\site-packages\\pandas\\core\\generic.py\u001b[0m in \u001b[0;36mdrop\u001b[1;34m(self, labels, axis, index, columns, level, inplace, errors)\u001b[0m\n\u001b[0;32m   4151\u001b[0m         \u001b[1;32mfor\u001b[0m \u001b[0maxis\u001b[0m\u001b[1;33m,\u001b[0m \u001b[0mlabels\u001b[0m \u001b[1;32min\u001b[0m \u001b[0maxes\u001b[0m\u001b[1;33m.\u001b[0m\u001b[0mitems\u001b[0m\u001b[1;33m(\u001b[0m\u001b[1;33m)\u001b[0m\u001b[1;33m:\u001b[0m\u001b[1;33m\u001b[0m\u001b[1;33m\u001b[0m\u001b[0m\n\u001b[0;32m   4152\u001b[0m             \u001b[1;32mif\u001b[0m \u001b[0mlabels\u001b[0m \u001b[1;32mis\u001b[0m \u001b[1;32mnot\u001b[0m \u001b[1;32mNone\u001b[0m\u001b[1;33m:\u001b[0m\u001b[1;33m\u001b[0m\u001b[1;33m\u001b[0m\u001b[0m\n\u001b[1;32m-> 4153\u001b[1;33m                 \u001b[0mobj\u001b[0m \u001b[1;33m=\u001b[0m \u001b[0mobj\u001b[0m\u001b[1;33m.\u001b[0m\u001b[0m_drop_axis\u001b[0m\u001b[1;33m(\u001b[0m\u001b[0mlabels\u001b[0m\u001b[1;33m,\u001b[0m \u001b[0maxis\u001b[0m\u001b[1;33m,\u001b[0m \u001b[0mlevel\u001b[0m\u001b[1;33m=\u001b[0m\u001b[0mlevel\u001b[0m\u001b[1;33m,\u001b[0m \u001b[0merrors\u001b[0m\u001b[1;33m=\u001b[0m\u001b[0merrors\u001b[0m\u001b[1;33m)\u001b[0m\u001b[1;33m\u001b[0m\u001b[1;33m\u001b[0m\u001b[0m\n\u001b[0m\u001b[0;32m   4154\u001b[0m \u001b[1;33m\u001b[0m\u001b[0m\n\u001b[0;32m   4155\u001b[0m         \u001b[1;32mif\u001b[0m \u001b[0minplace\u001b[0m\u001b[1;33m:\u001b[0m\u001b[1;33m\u001b[0m\u001b[1;33m\u001b[0m\u001b[0m\n",
      "\u001b[1;32m~\\anaconda3\\lib\\site-packages\\pandas\\core\\generic.py\u001b[0m in \u001b[0;36m_drop_axis\u001b[1;34m(self, labels, axis, level, errors)\u001b[0m\n\u001b[0;32m   4186\u001b[0m                 \u001b[0mnew_axis\u001b[0m \u001b[1;33m=\u001b[0m \u001b[0maxis\u001b[0m\u001b[1;33m.\u001b[0m\u001b[0mdrop\u001b[0m\u001b[1;33m(\u001b[0m\u001b[0mlabels\u001b[0m\u001b[1;33m,\u001b[0m \u001b[0mlevel\u001b[0m\u001b[1;33m=\u001b[0m\u001b[0mlevel\u001b[0m\u001b[1;33m,\u001b[0m \u001b[0merrors\u001b[0m\u001b[1;33m=\u001b[0m\u001b[0merrors\u001b[0m\u001b[1;33m)\u001b[0m\u001b[1;33m\u001b[0m\u001b[1;33m\u001b[0m\u001b[0m\n\u001b[0;32m   4187\u001b[0m             \u001b[1;32melse\u001b[0m\u001b[1;33m:\u001b[0m\u001b[1;33m\u001b[0m\u001b[1;33m\u001b[0m\u001b[0m\n\u001b[1;32m-> 4188\u001b[1;33m                 \u001b[0mnew_axis\u001b[0m \u001b[1;33m=\u001b[0m \u001b[0maxis\u001b[0m\u001b[1;33m.\u001b[0m\u001b[0mdrop\u001b[0m\u001b[1;33m(\u001b[0m\u001b[0mlabels\u001b[0m\u001b[1;33m,\u001b[0m \u001b[0merrors\u001b[0m\u001b[1;33m=\u001b[0m\u001b[0merrors\u001b[0m\u001b[1;33m)\u001b[0m\u001b[1;33m\u001b[0m\u001b[1;33m\u001b[0m\u001b[0m\n\u001b[0m\u001b[0;32m   4189\u001b[0m             \u001b[0mresult\u001b[0m \u001b[1;33m=\u001b[0m \u001b[0mself\u001b[0m\u001b[1;33m.\u001b[0m\u001b[0mreindex\u001b[0m\u001b[1;33m(\u001b[0m\u001b[1;33m**\u001b[0m\u001b[1;33m{\u001b[0m\u001b[0maxis_name\u001b[0m\u001b[1;33m:\u001b[0m \u001b[0mnew_axis\u001b[0m\u001b[1;33m}\u001b[0m\u001b[1;33m)\u001b[0m\u001b[1;33m\u001b[0m\u001b[1;33m\u001b[0m\u001b[0m\n\u001b[0;32m   4190\u001b[0m \u001b[1;33m\u001b[0m\u001b[0m\n",
      "\u001b[1;32m~\\anaconda3\\lib\\site-packages\\pandas\\core\\indexes\\base.py\u001b[0m in \u001b[0;36mdrop\u001b[1;34m(self, labels, errors)\u001b[0m\n\u001b[0;32m   5589\u001b[0m         \u001b[1;32mif\u001b[0m \u001b[0mmask\u001b[0m\u001b[1;33m.\u001b[0m\u001b[0many\u001b[0m\u001b[1;33m(\u001b[0m\u001b[1;33m)\u001b[0m\u001b[1;33m:\u001b[0m\u001b[1;33m\u001b[0m\u001b[1;33m\u001b[0m\u001b[0m\n\u001b[0;32m   5590\u001b[0m             \u001b[1;32mif\u001b[0m \u001b[0merrors\u001b[0m \u001b[1;33m!=\u001b[0m \u001b[1;34m\"ignore\"\u001b[0m\u001b[1;33m:\u001b[0m\u001b[1;33m\u001b[0m\u001b[1;33m\u001b[0m\u001b[0m\n\u001b[1;32m-> 5591\u001b[1;33m                 \u001b[1;32mraise\u001b[0m \u001b[0mKeyError\u001b[0m\u001b[1;33m(\u001b[0m\u001b[1;34mf\"{labels[mask]} not found in axis\"\u001b[0m\u001b[1;33m)\u001b[0m\u001b[1;33m\u001b[0m\u001b[1;33m\u001b[0m\u001b[0m\n\u001b[0m\u001b[0;32m   5592\u001b[0m             \u001b[0mindexer\u001b[0m \u001b[1;33m=\u001b[0m \u001b[0mindexer\u001b[0m\u001b[1;33m[\u001b[0m\u001b[1;33m~\u001b[0m\u001b[0mmask\u001b[0m\u001b[1;33m]\u001b[0m\u001b[1;33m\u001b[0m\u001b[1;33m\u001b[0m\u001b[0m\n\u001b[0;32m   5593\u001b[0m         \u001b[1;32mreturn\u001b[0m \u001b[0mself\u001b[0m\u001b[1;33m.\u001b[0m\u001b[0mdelete\u001b[0m\u001b[1;33m(\u001b[0m\u001b[0mindexer\u001b[0m\u001b[1;33m)\u001b[0m\u001b[1;33m\u001b[0m\u001b[1;33m\u001b[0m\u001b[0m\n",
      "\u001b[1;31mKeyError\u001b[0m: \"['Invalid vote'] not found in axis\""
     ]
    }
   ],
   "source": [
    "# Analysis A:\n",
    "party_counts = anonymized_survey_data['party'].value_counts()\n",
    "party_counts.drop('Invalid vote', inplace=True)\n",
    "\n",
    "# Calculate the percentage of Red and Green preferences in the survey data\n",
    "survey_green_percentage = party_counts.get('Party A', 0) / len(anonymized_survey_data) * 100\n",
    "survey_red_percentage = party_counts.get('Party B', 0) / len(anonymized_survey_data) * 100\n",
    "\n",
    "# Calculate the percentage of Red and Green preferences in the result data\n",
    "result_red_percentage = (result_df['Red'][5] / result_df['Total'][5]) * 100\n",
    "result_green_percentage = (result_df['Green'][5] / result_df['Total'][5]) * 100\n",
    "\n",
    "# Chi-squared test of independence\n",
    "observed = [[party_counts.get('Party A', 0), party_counts.get('Party B', 0)],\n",
    "            [result_df['Red'][5], result_df['Green'][5]]]\n",
    "print(pd.DataFrame(observed, index=['Survey', 'election'], columns=['Red', 'Green']), \"\\n\")\n",
    "\n",
    "chi2, p, _, _ = chi2_contingency(observed)\n",
    "\n",
    "# Compare survey data with election results\n",
    "print(\"Analysis A - Red vs. Green Preferences:\")\n",
    "print(f\"Survey Red Percentage: {survey_red_percentage:.2f}%\")\n",
    "print(f\"Survey Green Percentage: {survey_green_percentage:.2f}%\")\n",
    "print(f\"Result Red Percentage: {result_red_percentage:.2f}%\")\n",
    "print(f\"Result Green Percentage: {result_green_percentage:.2f}%\")\n",
    "\n",
    "# Print the result of the chi-squared test\n",
    "print(\"\\nChi-squared test of independence:\")\n",
    "print(f\"Chi-squared statistic: {chi2:.2f}\")\n",
    "print(f\"P-value: {p:.4f}\")\n",
    "\n",
    "# Set the significance level (alpha)\n",
    "alpha = 0.05\n",
    "\n",
    "# Determine if the result is statistically significant\n",
    "if p < alpha:\n",
    "    print(\"There is a significant difference between the political preferences in the survey and the election results.\")\n",
    "else:\n",
    "    print(\"There is no significant difference between the political preferences in the survey and the election results.\")"
   ]
  },
  {
   "cell_type": "code",
   "execution_count": 11,
   "id": "73f92299",
   "metadata": {},
   "outputs": [
    {
     "name": "stdout",
     "output_type": "stream",
     "text": [
      "Chi-squared test for sex and party: chi2 = 7.747565635399975, p = 0.0053784993514836375 (significant)\n",
      "Chi-squared test for sex and party: chi2 = 7.747565635399975, p = 0.0053784993514836375\n",
      "Chi-squared test for education and party: chi2 = 27.85412619725635, p = 3.897316582958022e-06 (significant)\n",
      "Chi-squared test for education and party: chi2 = 27.85412619725635, p = 3.897316582958022e-06\n",
      "Chi-squared test for citizenship and party: chi2 = 1.7267154080196174, p = 0.188830914416582 (not significant)\n",
      "Chi-squared test for citizenship and party: chi2 = 1.7267154080196174, p = 0.188830914416582\n",
      "Chi-squared test for marital_status and party: chi2 = 2.3208420056491597, p = 0.1276509117102641 (not significant)\n",
      "Chi-squared test for marital_status and party: chi2 = 2.3208420056491597, p = 0.1276509117102641\n",
      "ANOVA (or Kruskal-Wallis) for age_range_numeric and party: F-statistic = nan, p = nan (not significant)\n"
     ]
    }
   ],
   "source": [
    "# Analysis B:\n",
    "# Perform chi-squared test\n",
    "categorical_vars = ['sex', 'education', 'citizenship', 'marital_status']\n",
    "for var in categorical_vars:\n",
    "    crosstab = pd.crosstab(anonymized_survey_data['party'], anonymized_survey_data[var])\n",
    "    chi2, p, _, _ = chi2_contingency(crosstab)\n",
    "    if p < 0.05:\n",
    "        significance = 'significant'\n",
    "    else:\n",
    "        significance = 'not significant'\n",
    "    \n",
    "    print(f'Chi-squared test for {var} and party: chi2 = {chi2}, p = {p} ({significance})')\n",
    "    print(f'Chi-squared test for {var} and party: chi2 = {chi2}, p = {p}')\n",
    "\n",
    "# Create a mapping from age_range to numeric values\n",
    "age_range_mapping = {\n",
    "    '18-30': 1,\n",
    "    '31-50': 2,\n",
    "    '51+': 3\n",
    "}\n",
    "\n",
    "# Map the 'age_range' column to numeric values\n",
    "anonymized_survey_data['age_range_numeric'] = anonymized_survey_data['age_range'].map(age_range_mapping)\n",
    "\n",
    "# Perform ANOVA (or Kruskal-Wallis) test for age_range_numeric and party\n",
    "groups = [group['age_range_numeric'] for _, group in anonymized_survey_data.groupby('party')]\n",
    "f_statistic, p_value = f_oneway(*groups)  # For ANOVA\n",
    "if p_value < 0.05:\n",
    "    significance = 'significant'\n",
    "else:\n",
    "    significance = 'not significant'\n",
    "\n",
    "print(f'ANOVA (or Kruskal-Wallis) for age_range_numeric and party: F-statistic = {f_statistic}, p = {p_value} ({significance})')"
   ]
  },
  {
   "cell_type": "code",
   "execution_count": 6,
   "id": "79ac6b22",
   "metadata": {},
   "outputs": [
    {
     "name": "stdout",
     "output_type": "stream",
     "text": [
      "Significant difference in evote choice based on age_range\n",
      "No significant difference in evote channel choice based on education\n",
      "No significant difference in evote channel choice based on citizenship\n",
      "No significant difference in evote channel choice based on marital_status\n"
     ]
    }
   ],
   "source": [
    "# Analysis C:\n",
    "# Use chi-squared test \n",
    "# Define the list of demographic attributes to consider\n",
    "demographic_attributes = ['age_range', 'education', 'citizenship', 'marital_status']\n",
    "\n",
    "# Create a contingency table to compare demographic attributes and voting channel choice\n",
    "for attribute in demographic_attributes:\n",
    "    contingency_table = pd.crosstab(anonymized_survey_data['evote'], anonymized_survey_data[attribute])\n",
    "\n",
    "# Perform the chi-squared test\n",
    "    chi2, p, _, _ = chi2_contingency(contingency_table)\n",
    "    if p < 0.05:\n",
    "        print(f\"Significant difference in evote choice based on {attribute}\")\n",
    "    else:\n",
    "        print(f\"No significant difference in evote channel choice based on {attribute}\")"
   ]
  },
  {
   "cell_type": "code",
   "execution_count": null,
   "id": "881afdce",
   "metadata": {},
   "outputs": [],
   "source": []
  }
 ],
 "metadata": {
  "kernelspec": {
   "display_name": "Python 3",
   "language": "python",
   "name": "python3"
  },
  "language_info": {
   "codemirror_mode": {
    "name": "ipython",
    "version": 3
   },
   "file_extension": ".py",
   "mimetype": "text/x-python",
   "name": "python",
   "nbconvert_exporter": "python",
   "pygments_lexer": "ipython3",
   "version": "3.8.8"
  }
 },
 "nbformat": 4,
 "nbformat_minor": 5
}
