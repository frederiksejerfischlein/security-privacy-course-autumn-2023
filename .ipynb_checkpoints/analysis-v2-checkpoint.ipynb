{
 "cells": [
  {
   "cell_type": "markdown",
   "metadata": {},
   "source": [
    "Another take on the analysis of utility questions. Performed to see if the results are consistent with the previous analysis."
   ]
  },
  {
   "cell_type": "code",
   "execution_count": 34,
   "metadata": {},
   "outputs": [],
   "source": [
    "import pandas as pd\n",
    "import matplotlib.pyplot as plt\n",
    "from scipy.stats import fisher_exact, chi2_contingency"
   ]
  },
  {
   "cell_type": "code",
   "execution_count": 35,
   "metadata": {},
   "outputs": [],
   "source": [
    "anonymized_survey_data = pd.read_excel('data\\\\anonymized_data.xlsx')\n",
    "election_results = pd.read_excel(\"data\\\\public_data_resultsT.xlsx\")\n",
    "election_df = pd.DataFrame(election_results)"
   ]
  },
  {
   "cell_type": "markdown",
   "metadata": {},
   "source": [
    "(A) Is there a significant difference between the political preferences as expressed in the survey and the election results for both electronic and polling station votes?"
   ]
  },
  {
   "cell_type": "code",
   "execution_count": 40,
   "metadata": {},
   "outputs": [
    {
     "name": "stdout",
     "output_type": "stream",
     "text": [
      "Observed votes (contingency table):  [[133, 61], [390, 685]]\n",
      "p-value: 7.430799425311284e-17 - unlikely to be due to chance\n",
      "Odds ratio: 3.8295502311895753\n"
     ]
    }
   ],
   "source": [
    "party_counts = anonymized_survey_data['party'].value_counts()\n",
    "\n",
    "observed = [[party_counts.get('Party A', 0), party_counts.get('Party B', 0)],\n",
    "            [election_df['Red'][5], election_df['Green'][5]]] # Total votes for each party\n",
    "print(f\"Observed votes (contingency table):  {observed}\")\n",
    "\n",
    "odds_ratio, p = fisher_exact(observed)\n",
    "\n",
    "if p < 0.05:\n",
    "    print(f\"p-value: {p} - unlikely to be due to chance\")\n",
    "else:\n",
    "    print(f\"p-value: {p} - likely to be due to chance\")\n",
    "print(f\"Odds ratio: {odds_ratio}\")"
   ]
  },
  {
   "cell_type": "markdown",
   "metadata": {},
   "source": [
    "(B) Is there a significant difference between political preferences of the voters depending on their demographic attributes recorded in the survey (that is, age, gender, education level…)?"
   ]
  },
  {
   "cell_type": "code",
   "execution_count": 47,
   "metadata": {},
   "outputs": [
    {
     "name": "stdout",
     "output_type": "stream",
     "text": [
      "contingency table for party and sex:\n",
      "sex      Female  Male\n",
      "party                \n",
      "Party A      57    76\n",
      "Party B      40    21\n",
      "p-value: 0.005157802698565871 - party and sex correlation is SIGNIFICANT\n",
      "Odds ratio: 0.39375\n",
      "\n",
      "contingency table for party and citizenship:\n",
      "citizenship  Danish  Not Danish\n",
      "party                          \n",
      "Party A         123          10\n",
      "Party B          52           9\n",
      "p-value: 0.12536580649097923 - party and citizenship correlation is NOT SIGNIFICANT\n",
      "Odds ratio: 2.128846153846154\n",
      "\n",
      "contingency table for party and marital_status:\n",
      "marital_status  Married  Not Married\n",
      "party                               \n",
      "Party A              69           64\n",
      "Party B              40           21\n",
      "p-value: 0.08720134467863372 - party and marital_status correlation is NOT SIGNIFICANT\n",
      "Odds ratio: 0.566015625\n",
      "\n"
     ]
    }
   ],
   "source": [
    "df = anonymized_survey_data\n",
    "\n",
    "\n",
    "categorical_vars = ['sex', 'citizenship', 'marital_status']\n",
    "for var in categorical_vars:\n",
    "    crosstab = pd.crosstab(df['party'], df[var])\n",
    "    # Drop invalid vote from crosstab\n",
    "    crosstab = crosstab.drop('Invalid vote', axis=0)\n",
    "\n",
    "    print(f\"contingency table for party and {var}:\")\n",
    "    print(crosstab)\n",
    "\n",
    "    odds_ratio, p = fisher_exact(crosstab)\n",
    "\n",
    "    significance = \"SIGNIFICANT\" if p < 0.05 else \"NOT SIGNIFICANT\"\n",
    "    print(f\"p-value: {p} - party and {var} correlation is {significance}\")\n",
    "    print(f\"Odds ratio: {odds_ratio}\\n\")"
   ]
  },
  {
   "cell_type": "markdown",
   "metadata": {},
   "source": [
    "(C) Is there a significant difference between voter’s choice of the voting channel (that is, if they decide to vote either online or in person) depending on their demographic attributes recorded in the survey?"
   ]
  },
  {
   "cell_type": "code",
   "execution_count": null,
   "metadata": {},
   "outputs": [],
   "source": []
  }
 ],
 "metadata": {
  "kernelspec": {
   "display_name": "Python 3",
   "language": "python",
   "name": "python3"
  },
  "language_info": {
   "codemirror_mode": {
    "name": "ipython",
    "version": 3
   },
   "file_extension": ".py",
   "mimetype": "text/x-python",
   "name": "python",
   "nbconvert_exporter": "python",
   "pygments_lexer": "ipython3",
   "version": "3.8.8"
  }
 },
 "nbformat": 4,
 "nbformat_minor": 2
}
