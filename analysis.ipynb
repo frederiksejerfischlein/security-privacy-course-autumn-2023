{
 "cells": [
  {
   "cell_type": "code",
   "execution_count": 1,
   "id": "c3eb06bf",
   "metadata": {},
   "outputs": [],
   "source": [
    "import pandas as pd\n",
    "from scipy.stats import chi2_contingency, f_oneway, kruskal"
   ]
  },
  {
   "cell_type": "code",
   "execution_count": 3,
   "id": "a54c4b45",
   "metadata": {},
   "outputs": [],
   "source": [
    "# Load the data\n",
    "anonymized_survey_data = pd.read_excel('data\\\\anonymized_data.xlsx')\n",
    "election_results = pd.read_excel(\"data\\\\public_data_resultsT.xlsx\")"
   ]
  },
  {
   "cell_type": "code",
   "execution_count": 4,
   "id": "5571ca0e",
   "metadata": {},
   "outputs": [],
   "source": [
    "# Create a DataFrame from the result data\n",
    "result_df = pd.DataFrame(election_results)"
   ]
  },
  {
   "cell_type": "code",
   "execution_count": 5,
   "id": "a278f91f",
   "metadata": {},
   "outputs": [
    {
     "name": "stdout",
     "output_type": "stream",
     "text": [
      "Analysis A - Red vs. Green Preferences:\n",
      "Survey Red Percentage: 30.50%\n",
      "Survey Green Percentage: 66.50%\n",
      "Result Red Percentage: 35.62%\n",
      "Result Green Percentage: 62.56%\n",
      "\n",
      "Chi-squared test of independence:\n",
      "Chi-squared statistic: 76.61\n",
      "P-value: 0.0000\n",
      "There is a significant difference between the political preferences in the survey and the election results.\n"
     ]
    }
   ],
   "source": [
    "# Analysis A:\n",
    "party_counts = anonymized_survey_data['party'].value_counts()\n",
    "\n",
    "# Calculate the percentage of Red and Green preferences in the survey data\n",
    "survey_green_percentage = party_counts.get('Party A', 0) / len(anonymized_survey_data) * 100\n",
    "survey_red_percentage = party_counts.get('Party B', 0) / len(anonymized_survey_data) * 100\n",
    "\n",
    "# Calculate the percentage of Red and Green preferences in the result data\n",
    "result_red_percentage = (result_df['Red'].sum() / result_df['Total'].sum()) * 100\n",
    "result_green_percentage = (result_df['Green'].sum() / result_df['Total'].sum()) * 100\n",
    "\n",
    "\n",
    "\n",
    "# Chi-squared test of independence\n",
    "observed = [[party_counts.get('Party A', 0), party_counts.get('Party B', 0)],\n",
    "            [result_df['Red'].sum(), result_df['Green'].sum()]]\n",
    "\n",
    "chi2, p, _, _ = chi2_contingency(observed)\n",
    "\n",
    "# Compare survey data with election results\n",
    "print(\"Analysis A - Red vs. Green Preferences:\")\n",
    "print(f\"Survey Red Percentage: {survey_red_percentage:.2f}%\")\n",
    "print(f\"Survey Green Percentage: {survey_green_percentage:.2f}%\")\n",
    "print(f\"Result Red Percentage: {result_red_percentage:.2f}%\")\n",
    "print(f\"Result Green Percentage: {result_green_percentage:.2f}%\")\n",
    "\n",
    "# Print the result of the chi-squared test\n",
    "print(\"\\nChi-squared test of independence:\")\n",
    "print(f\"Chi-squared statistic: {chi2:.2f}\")\n",
    "print(f\"P-value: {p:.4f}\")\n",
    "\n",
    "# Set the significance level (alpha)\n",
    "alpha = 0.05\n",
    "\n",
    "# Determine if the result is statistically significant\n",
    "if p < alpha:\n",
    "    print(\"There is a significant difference between the political preferences in the survey and the election results.\")\n",
    "else:\n",
    "    print(\"There is no significant difference between the political preferences in the survey and the election results.\")"
   ]
  },
  {
   "cell_type": "code",
   "execution_count": 6,
   "id": "73f92299",
   "metadata": {},
   "outputs": [
    {
     "name": "stdout",
     "output_type": "stream",
     "text": [
      "Chi-squared test for sex and party: chi2 = 8.63231850117096, p = 0.0133510632837391 (significant)\n",
      "Chi-squared test for sex and party: chi2 = 8.63231850117096, p = 0.0133510632837391\n",
      "Chi-squared test for education and party: chi2 = 28.045911547794567, p = 9.2110368960829e-05 (significant)\n",
      "Chi-squared test for education and party: chi2 = 28.045911547794567, p = 9.2110368960829e-05\n",
      "Chi-squared test for citizenship and party: chi2 = 2.737946870820038, p = 0.2543679506987592 (not significant)\n",
      "Chi-squared test for citizenship and party: chi2 = 2.737946870820038, p = 0.2543679506987592\n",
      "Chi-squared test for marital_status and party: chi2 = 4.405981757631282, p = 0.11047225463642474 (not significant)\n",
      "Chi-squared test for marital_status and party: chi2 = 4.405981757631282, p = 0.11047225463642474\n",
      "ANOVA (or Kruskal-Wallis) for age_range_numeric and party: F-statistic = 12.363148439529745, p = 8.748401484965074e-06 (significant)\n"
     ]
    }
   ],
   "source": [
    "# Analysis B:\n",
    "# Perform chi-squared test\n",
    "categorical_vars = ['sex', 'education', 'citizenship', 'marital_status']\n",
    "for var in categorical_vars:\n",
    "    crosstab = pd.crosstab(anonymized_survey_data['party'], anonymized_survey_data[var])\n",
    "    chi2, p, _, _ = chi2_contingency(crosstab)\n",
    "    if p < 0.05:\n",
    "        significance = 'significant'\n",
    "    else:\n",
    "        significance = 'not significant'\n",
    "    \n",
    "    print(f'Chi-squared test for {var} and party: chi2 = {chi2}, p = {p} ({significance})')\n",
    "    print(f'Chi-squared test for {var} and party: chi2 = {chi2}, p = {p}')\n",
    "\n",
    "# Create a mapping from age_range to numeric values\n",
    "age_range_mapping = {\n",
    "    '18-30': 1,\n",
    "    '31-50': 2,\n",
    "    '51+': 3\n",
    "}\n",
    "\n",
    "# Map the 'age_range' column to numeric values\n",
    "anonymized_survey_data['age_range_numeric'] = anonymized_survey_data['age_range'].map(age_range_mapping)\n",
    "\n",
    "# Perform ANOVA (or Kruskal-Wallis) test for age_range_numeric and party\n",
    "groups = [group['age_range_numeric'] for _, group in anonymized_survey_data.groupby('party')]\n",
    "f_statistic, p_value = f_oneway(*groups)  # For ANOVA\n",
    "if p_value < 0.05:\n",
    "    significance = 'significant'\n",
    "else:\n",
    "    significance = 'not significant'\n",
    "\n",
    "print(f'ANOVA (or Kruskal-Wallis) for age_range_numeric and party: F-statistic = {f_statistic}, p = {p_value} ({significance})')"
   ]
  },
  {
   "cell_type": "code",
   "execution_count": 8,
   "id": "79ac6b22",
   "metadata": {},
   "outputs": [
    {
     "name": "stdout",
     "output_type": "stream",
     "text": [
      "Significant difference in evote choice based on age_range\n",
      "No significant difference in evote channel choice based on education\n",
      "No significant difference in evote channel choice based on citizenship\n",
      "No significant difference in evote channel choice based on marital_status\n"
     ]
    }
   ],
   "source": [
    "# Analysis B:\n",
    "# Use chi-squared test \n",
    "# Define the list of demographic attributes to consider\n",
    "demographic_attributes = ['age_range', 'education', 'citizenship', 'marital_status']\n",
    "\n",
    "# Create a contingency table to compare demographic attributes and voting channel choice\n",
    "for attribute in demographic_attributes:\n",
    "    contingency_table = pd.crosstab(anonymized_survey_data['evote'], anonymized_survey_data[attribute])\n",
    "\n",
    "# Perform the chi-squared test\n",
    "    chi2, p, _, _ = chi2_contingency(contingency_table)\n",
    "    if p < 0.05:\n",
    "        print(f\"Significant difference in evote choice based on {attribute}\")\n",
    "    else:\n",
    "        print(f\"No significant difference in evote channel choice based on {attribute}\")"
   ]
  }
 ],
 "metadata": {
  "kernelspec": {
   "display_name": "Python 3",
   "language": "python",
   "name": "python3"
  },
  "language_info": {
   "codemirror_mode": {
    "name": "ipython",
    "version": 3
   },
   "file_extension": ".py",
   "mimetype": "text/x-python",
   "name": "python",
   "nbconvert_exporter": "python",
   "pygments_lexer": "ipython3",
   "version": "3.8.8"
  }
 },
 "nbformat": 4,
 "nbformat_minor": 5
}
