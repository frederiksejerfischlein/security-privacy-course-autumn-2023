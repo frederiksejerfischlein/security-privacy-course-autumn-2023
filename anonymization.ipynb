{
 "cells": [
  {
   "cell_type": "code",
   "execution_count": 2,
   "id": "12918b1f",
   "metadata": {},
   "outputs": [],
   "source": [
    "import pandas as pd\n",
    "import random\n",
    "from datetime import datetime\n",
    "\n",
    "# Load the dataset\n",
    "file_path = r'data\\private_dataT.xlsx'\n",
    "df= pd.read_excel(file_path)"
   ]
  },
  {
   "cell_type": "code",
   "execution_count": 3,
   "id": "7d479d2b",
   "metadata": {},
   "outputs": [],
   "source": [
    "# Calculate age from date of birth and create an 'age_range' column\n",
    "df['dob'] = pd.to_datetime(df['dob'], format='%m/%d/%Y')\n",
    "current_year = datetime.now().year\n",
    "df['age'] = current_year - df['dob'].dt.year\n",
    "age_bins = [0, 18, 30, 50, float('inf')]\n",
    "age_labels = ['<18', '18-30', '31-50', '51+']\n",
    "df['age_range'] = pd.cut(df['age'], bins=age_bins, labels=age_labels)\n",
    "\n",
    "# Drop the 'age' column as it's no longer needed\n",
    "df.drop(columns=['age'], inplace=True)"
   ]
  },
  {
   "cell_type": "code",
   "execution_count": 4,
   "id": "195287fd",
   "metadata": {},
   "outputs": [],
   "source": [
    "df['name'] = '*'  # Replace names with \"*\"\n",
    "df.drop(columns=['dob', 'zip'], inplace=True)  # Drop 'dob' and 'zip' columns\n"
   ]
  },
  {
   "cell_type": "code",
   "execution_count": 5,
   "id": "dcea001a",
   "metadata": {},
   "outputs": [],
   "source": [
    "df['party'] = df['party'].apply(lambda x: 'Party A' if x == 'Green' else ('Party B' if x == 'Red' else x))"
   ]
  },
  {
   "cell_type": "code",
   "execution_count": 6,
   "id": "d2596946",
   "metadata": {},
   "outputs": [],
   "source": [
    "# Categorize 'citizenship' as 'Danish' or 'Not Danish'\n",
    "df['citizenship'] = df['citizenship'].apply(lambda x: 'Danish' if x == 'Denmark' else 'Not Danish')"
   ]
  },
  {
   "cell_type": "code",
   "execution_count": 7,
   "id": "8edc47f3",
   "metadata": {},
   "outputs": [],
   "source": [
    "# Categorize 'marital_status' as 'Married' or 'Not Married'\n",
    "df['marital_status'] = df['marital_status'].apply(lambda x: 'Married' if x in ['Married/separated', 'Widowed'] else 'Not Married')"
   ]
  },
  {
   "cell_type": "code",
   "execution_count": 8,
   "id": "bbc1a39e",
   "metadata": {},
   "outputs": [],
   "source": [
    "# Define custom mapping and recoding for 'education' into more generic categories\n",
    "education_mapping = {\n",
    "    'Primary education': 'Basic Education',\n",
    "    'Upper secondary education': 'High School Education',\n",
    "    'Vocational Education and Training (VET)': 'Vocational Training',\n",
    "    'Short cycle higher education': 'Higher Education',\n",
    "    'Vocational bachelors educations': 'Higher Education',\n",
    "    'Bachelors programmes': 'Higher Education',\n",
    "    'Masters programmes': 'Higher Education',\n",
    "    'PhD programmes': 'Higher Education',\n",
    "    'Not stated': 'Not Stated'  # Recode 'Not stated' to a suitable category\n",
    "}\n",
    "\n",
    "# Recode 'education' based on the custom mapping\n",
    "df['education'] = df['education'].map(education_mapping)\n",
    "\n",
    "# Group 'education' into three categories: Basic Education, Vocational Training, and Higher Education\n",
    "education_grouping = {\n",
    "    'Basic Education': 'Basic Education',\n",
    "    'High School Education': 'Basic Education',\n",
    "    'Vocational Training': 'Vocational Training',\n",
    "    'Higher Education': 'Higher Education',\n",
    "    'Not Stated': 'Not Stated'  # Preserve 'Not stated' in a separate category\n",
    "}\n",
    "\n",
    "# Recode 'education' again to create three categories\n",
    "df['education'] = df['education'].map(education_grouping)"
   ]
  },
  {
   "cell_type": "code",
   "execution_count": 9,
   "id": "cbfc7de4",
   "metadata": {},
   "outputs": [],
   "source": [
    "# Save the anonymized dataset to the specified directory\n",
    "df.to_excel(\"data/anonymized_data.xlsx\", index=False)"
   ]
  },
  {
   "cell_type": "code",
   "execution_count": null,
   "id": "a53d27ef",
   "metadata": {},
   "outputs": [],
   "source": []
  },
  {
   "cell_type": "code",
   "execution_count": null,
   "id": "53160f3b",
   "metadata": {},
   "outputs": [],
   "source": []
  }
 ],
 "metadata": {
  "kernelspec": {
   "display_name": "Python 3",
   "language": "python",
   "name": "python3"
  },
  "language_info": {
   "codemirror_mode": {
    "name": "ipython",
    "version": 3
   },
   "file_extension": ".py",
   "mimetype": "text/x-python",
   "name": "python",
   "nbconvert_exporter": "python",
   "pygments_lexer": "ipython3",
   "version": "3.8.8"
  }
 },
 "nbformat": 4,
 "nbformat_minor": 5
}
