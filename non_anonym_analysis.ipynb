{
 "cells": [
  {
   "cell_type": "code",
   "execution_count": 56,
   "id": "d6a5c909",
   "metadata": {},
   "outputs": [],
   "source": [
    "import pandas as pd\n",
    "from datetime import datetime\n",
    "from scipy.stats import fisher_exact, chi2_contingency\n",
    "\n",
    "\n",
    "# Load the dataset\n",
    "\n",
    "df= pd.read_excel(r'data\\private_dataT.xlsx')\n",
    "survey_data = pd.DataFrame(df)\n",
    "election_results = pd.read_excel(\"data\\\\public_data_resultsT.xlsx\")\n",
    "election_df = pd.DataFrame(election_results)"
   ]
  },
  {
   "cell_type": "code",
   "execution_count": 57,
   "id": "07f3dd49",
   "metadata": {},
   "outputs": [],
   "source": [
    "# Calculate age from date of birth and create an 'age_range' column\n",
    "survey_data['dob'] = pd.to_datetime(survey_data['dob'], format='%m/%d/%Y')\n",
    "current_year = datetime.now().year\n",
    "survey_data['age'] = current_year - survey_data['dob'].dt.year\n",
    "survey_data.drop(columns=['dob'], inplace=True)"
   ]
  },
  {
   "cell_type": "markdown",
   "id": "1ced6686",
   "metadata": {},
   "source": [
    "(A) Is there a significant difference between the political preferences as expressed in the survey and the election results for both electronic and polling station votes?"
   ]
  },
  {
   "cell_type": "code",
   "execution_count": 58,
   "id": "2ae54b5a",
   "metadata": {},
   "outputs": [
    {
     "name": "stdout",
     "output_type": "stream",
     "text": [
      "Observed votes (contingency table):  [[133, 61], [390, 685]]\n",
      "p-value: 7.430799425311284e-17 - unlikely to be due to chance\n",
      "Odds ratio: 3.8295502311895753\n"
     ]
    }
   ],
   "source": [
    "party_counts = survey_data['party'].value_counts()\n",
    "\n",
    "observed = [[party_counts.get('Green', 0), party_counts.get('Red', 0)],\n",
    "            [election_df['Red'][5], election_df['Green'][5]]] # Total votes for each party\n",
    "print(f\"Observed votes (contingency table):  {observed}\")\n",
    "\n",
    "odds_ratio, p = fisher_exact(observed)\n",
    "\n",
    "if p < 0.05:\n",
    "    print(f\"p-value: {p} - unlikely to be due to chance\")\n",
    "else:\n",
    "    print(f\"p-value: {p} - likely to be due to chance\")\n",
    "print(f\"Odds ratio: {odds_ratio}\")"
   ]
  },
  {
   "cell_type": "markdown",
   "id": "3dcb41b8",
   "metadata": {},
   "source": [
    "(B) Is there a significant difference between political preferences of the voters depending on their demographic attributes recorded in the survey (that is, age, gender, education level…)?"
   ]
  },
  {
   "cell_type": "code",
   "execution_count": 59,
   "id": "4b1884ed",
   "metadata": {},
   "outputs": [
    {
     "name": "stdout",
     "output_type": "stream",
     "text": [
      "Chi-square value for sex: 8.63231850117096\n",
      "P-value for sex: 0.0133510632837391\n",
      "There is a significant difference between political preferences and sex.\n",
      "\n",
      "Chi-square value for education: 43.183089892918744\n",
      "P-value for education: 0.000262247357553198\n",
      "There is a significant difference between political preferences and education.\n",
      "\n",
      "Chi-square value for marital_status: 13.501960801671222\n",
      "P-value for marital_status: 0.03572227613017426\n",
      "There is a significant difference between political preferences and marital_status.\n",
      "\n",
      "Chi-square value for citizenship: 53.37047080360282\n",
      "P-value for citizenship: 0.03118765943603746\n",
      "There is a significant difference between political preferences and citizenship.\n",
      "\n",
      "Chi-square value for age: 126.05009792240162\n",
      "P-value for age: 0.3824528119573126\n",
      "There is no significant difference between political preferences and age.\n",
      "\n"
     ]
    }
   ],
   "source": [
    "categorical_vars = ['sex', 'education', 'marital_status','citizenship','age']\n",
    "for var in categorical_vars:\n",
    "    contingency_table = pd.crosstab(survey_data['party'], survey_data[var])\n",
    "    chi2, p, _, _ = chi2_contingency(contingency_table)\n",
    "\n",
    "    # Check p-value to determine significance\n",
    "    alpha = 0.05\n",
    "    print(f'Chi-square value for {var}: {chi2}')\n",
    "    print(f'P-value for {var}: {p}')\n",
    "    \n",
    "    if p < alpha:\n",
    "        print(f'There is a significant difference between political preferences and {var}.\\n')\n",
    "    else:\n",
    "        print(f'There is no significant difference between political preferences and {var}.\\n')\n",
    "\n"
   ]
  },
  {
   "cell_type": "markdown",
   "id": "5259d18e",
   "metadata": {},
   "source": [
    "(C) Is there a significant difference between voter’s choice of the voting channel (that is, if they decide to vote either online or in person) depending on their demographic attributes recorded in the survey?"
   ]
  },
  {
   "cell_type": "code",
   "execution_count": 60,
   "id": "71ae616c",
   "metadata": {},
   "outputs": [
    {
     "name": "stdout",
     "output_type": "stream",
     "text": [
      "Chi-square value for sex: 11.347061347061347\n",
      "P-value for sex: 0.0007556744673725127\n",
      "There is a significant difference between voter’s choice of the voting channel and sex.\n",
      "\n",
      "Chi-square value for education: 7.796412305195842\n",
      "P-value for education: 0.4536058221305468\n",
      "There is no significant difference between voter’s choice of the voting channel and education.\n",
      "\n",
      "Chi-square value for marital_status: 3.4580674521896917\n",
      "P-value for marital_status: 0.32624149280058357\n",
      "There is no significant difference between voter’s choice of the voting channel and marital_status.\n",
      "\n",
      "Chi-square value for citizenship: 17.41265074598408\n",
      "P-value for citizenship: 0.4949269492708155\n",
      "There is no significant difference between voter’s choice of the voting channel and citizenship.\n",
      "\n",
      "Chi-square value for age: 70.29887029887033\n",
      "P-value for age: 0.19428387578541634\n",
      "There is no significant difference between voter’s choice of the voting channel and age.\n",
      "\n"
     ]
    }
   ],
   "source": [
    "for var in categorical_vars:\n",
    "    contingency_table = pd.crosstab(survey_data['evote'], survey_data[var])\n",
    "    chi2, p, _, _ = chi2_contingency(contingency_table)\n",
    "\n",
    "    # Check p-value to determine significance\n",
    "    alpha = 0.05\n",
    "    print(f'Chi-square value for {var}: {chi2}')\n",
    "    print(f'P-value for {var}: {p}')\n",
    "    \n",
    "    if p < alpha:\n",
    "        print(f'There is a significant difference between voter’s choice of the voting channel and {var}.\\n')\n",
    "    else:\n",
    "        print(f'There is no significant difference between voter’s choice of the voting channel and {var}.\\n')\n",
    "\n"
   ]
  },
  {
   "cell_type": "code",
   "execution_count": null,
   "id": "47e42aa2",
   "metadata": {},
   "outputs": [],
   "source": []
  }
 ],
 "metadata": {
  "kernelspec": {
   "display_name": "Python 3 (ipykernel)",
   "language": "python",
   "name": "python3"
  },
  "language_info": {
   "codemirror_mode": {
    "name": "ipython",
    "version": 3
   },
   "file_extension": ".py",
   "mimetype": "text/x-python",
   "name": "python",
   "nbconvert_exporter": "python",
   "pygments_lexer": "ipython3",
   "version": "3.9.15"
  }
 },
 "nbformat": 4,
 "nbformat_minor": 5
}
